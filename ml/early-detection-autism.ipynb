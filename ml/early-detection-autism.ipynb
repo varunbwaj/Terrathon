{
 "cells": [
  {
   "cell_type": "code",
   "execution_count": 3,
   "id": "105eca56",
   "metadata": {},
   "outputs": [
    {
     "name": "stderr",
     "output_type": "stream",
     "text": [
      "/opt/homebrew/Caskroom/miniconda/base/envs/TF/lib/python3.8/site-packages/requests/__init__.py:109: RequestsDependencyWarning: urllib3 (1.26.16) or chardet (3.0.0)/charset_normalizer (3.1.0) doesn't match a supported version!\n",
      "  warnings.warn(\n"
     ]
    },
    {
     "ename": "ImportError",
     "evalue": "cannot import name 'img_to_array' from 'keras.preprocessing.image' (/opt/homebrew/Caskroom/miniconda/base/envs/TF/lib/python3.8/site-packages/keras/preprocessing/image.py)",
     "output_type": "error",
     "traceback": [
      "\u001b[0;31m---------------------------------------------------------------------------\u001b[0m",
      "\u001b[0;31mImportError\u001b[0m                               Traceback (most recent call last)",
      "Cell \u001b[0;32mIn[3], line 24\u001b[0m\n\u001b[1;32m     21\u001b[0m \u001b[38;5;28;01mfrom\u001b[39;00m \u001b[38;5;21;01mtensorflow\u001b[39;00m\u001b[38;5;21;01m.\u001b[39;00m\u001b[38;5;21;01mkeras\u001b[39;00m\u001b[38;5;21;01m.\u001b[39;00m\u001b[38;5;21;01mapplications\u001b[39;00m\u001b[38;5;21;01m.\u001b[39;00m\u001b[38;5;21;01mvgg16\u001b[39;00m \u001b[38;5;28;01mimport\u001b[39;00m VGG16\n\u001b[1;32m     23\u001b[0m \u001b[38;5;28;01mfrom\u001b[39;00m \u001b[38;5;21;01mkeras\u001b[39;00m\u001b[38;5;21;01m.\u001b[39;00m\u001b[38;5;21;01mpreprocessing\u001b[39;00m\u001b[38;5;21;01m.\u001b[39;00m\u001b[38;5;21;01mimage\u001b[39;00m \u001b[38;5;28;01mimport\u001b[39;00m ImageDataGenerator\n\u001b[0;32m---> 24\u001b[0m \u001b[38;5;28;01mfrom\u001b[39;00m \u001b[38;5;21;01mkeras\u001b[39;00m\u001b[38;5;21;01m.\u001b[39;00m\u001b[38;5;21;01mpreprocessing\u001b[39;00m\u001b[38;5;21;01m.\u001b[39;00m\u001b[38;5;21;01mimage\u001b[39;00m \u001b[38;5;28;01mimport\u001b[39;00m img_to_array, load_img\n\u001b[1;32m     26\u001b[0m \u001b[38;5;28;01mfrom\u001b[39;00m \u001b[38;5;21;01msklearn\u001b[39;00m\u001b[38;5;21;01m.\u001b[39;00m\u001b[38;5;21;01mmetrics\u001b[39;00m \u001b[38;5;28;01mimport\u001b[39;00m accuracy_score\n\u001b[1;32m     27\u001b[0m \u001b[38;5;28;01mfrom\u001b[39;00m \u001b[38;5;21;01msklearn\u001b[39;00m\u001b[38;5;21;01m.\u001b[39;00m\u001b[38;5;21;01mmetrics\u001b[39;00m \u001b[38;5;28;01mimport\u001b[39;00m classification_report, confusion_matrix\n",
      "\u001b[0;31mImportError\u001b[0m: cannot import name 'img_to_array' from 'keras.preprocessing.image' (/opt/homebrew/Caskroom/miniconda/base/envs/TF/lib/python3.8/site-packages/keras/preprocessing/image.py)"
     ]
    }
   ],
   "source": [
    "import pandas as pd\n",
    "import numpy as np\n",
    "# import cv2\n",
    "import matplotlib.pyplot as plt\n",
    "import matplotlib.image as mpimg\n",
    "%matplotlib inline\n",
    "import seaborn as sns\n",
    "import random\n",
    "import os\n",
    "import gc\n",
    "import tensorflow as tf\n",
    "\n",
    "from tensorflow import keras\n",
    "from tensorflow.keras import layers\n",
    "from tensorflow.keras import models, Sequential\n",
    "from tensorflow.keras import optimizers\n",
    "\n",
    "from tensorflow.keras.layers import Dense, Dropout, Flatten\n",
    "from tensorflow.keras.layers import Conv2D, MaxPooling2D, SeparableConv2D\n",
    "\n",
    "from tensorflow.keras.applications.vgg16 import VGG16\n",
    "\n",
    "from keras.preprocessing.image import ImageDataGenerator\n",
    "from keras.preprocessing.image import img_to_array, load_img\n",
    "\n",
    "from sklearn.metrics import accuracy_score\n",
    "from sklearn.metrics import classification_report, confusion_matrix\n",
    "from sklearn.metrics import roc_curve, auc\n",
    "from sklearn.metrics import precision_recall_curve\n",
    "\n",
    "from tensorflow.keras.callbacks import Callback, EarlyStopping, ReduceLROnPlateau, ModelCheckpoint"
   ]
  },
  {
   "cell_type": "code",
   "execution_count": 8,
   "id": "8f0bfc8b",
   "metadata": {},
   "outputs": [
    {
     "name": "stdout",
     "output_type": "stream",
     "text": [
      "Found 2536 images belonging to 2 classes.\n",
      "Found 100 images belonging to 2 classes.\n",
      "Found 300 images belonging to 2 classes.\n"
     ]
    }
   ],
   "source": [
    "test_dir = \"dataset/test/\"\n",
    "train_dir = \"dataset/train\"\n",
    "val_dir = \"dataset/valid\"\n",
    "\n",
    "batch_size=64\n",
    "target_size=(150,150)\n",
    "\n",
    "train_dataGenerator = tf.keras.preprocessing.image.ImageDataGenerator(rescale=1./255,\n",
    "                                                               horizontal_flip=True,\n",
    "                                                               validation_split=0.2)\n",
    "train_ds = train_dataGenerator.flow_from_directory(train_dir,\n",
    "                                                        batch_size=batch_size,\n",
    "                                                        target_size=target_size, \n",
    "                                                        shuffle=True,\n",
    "                                                        class_mode='binary')\n",
    "validation_ds = train_dataGenerator.flow_from_directory(val_dir,\n",
    "                                                        batch_size=batch_size,\n",
    "                                                        target_size=target_size,\n",
    "                                                        shuffle=True,\n",
    "                                                        class_mode='binary')\n",
    "\n",
    "test_dataGenerator = tf.keras.preprocessing.image.ImageDataGenerator(rescale=1./255,\n",
    "                                                              horizontal_flip=True)\n",
    "test_ds = test_dataGenerator.flow_from_directory(test_dir,\n",
    "                                                  batch_size=batch_size,\n",
    "                                                  target_size=target_size,\n",
    "                                                  shuffle=True,\n",
    "                                                  class_mode=\"binary\")"
   ]
  },
  {
   "cell_type": "code",
   "execution_count": 9,
   "id": "4ff51b0e",
   "metadata": {},
   "outputs": [
    {
     "name": "stderr",
     "output_type": "stream",
     "text": [
      "2024-04-10 20:48:10.144657: I metal_plugin/src/device/metal_device.cc:1154] Metal device set to: Apple M1 Max\n",
      "2024-04-10 20:48:10.144692: I metal_plugin/src/device/metal_device.cc:296] systemMemory: 64.00 GB\n",
      "2024-04-10 20:48:10.144704: I metal_plugin/src/device/metal_device.cc:313] maxCacheSize: 24.00 GB\n",
      "2024-04-10 20:48:10.144743: I tensorflow/core/common_runtime/pluggable_device/pluggable_device_factory.cc:303] Could not identify NUMA node of platform GPU ID 0, defaulting to 0. Your kernel may not have been built with NUMA support.\n",
      "2024-04-10 20:48:10.144769: I tensorflow/core/common_runtime/pluggable_device/pluggable_device_factory.cc:269] Created TensorFlow device (/job:localhost/replica:0/task:0/device:GPU:0 with 0 MB memory) -> physical PluggableDevice (device: 0, name: METAL, pci bus id: <undefined>)\n"
     ]
    }
   ],
   "source": [
    "base_model = VGG16(include_top=False,weights='imagenet',input_shape=(150,150,3))\n",
    "for layer in base_model.layers:\n",
    "   layer.trainable = False"
   ]
  },
  {
   "cell_type": "code",
   "execution_count": 40,
   "id": "7092f3d7",
   "metadata": {},
   "outputs": [],
   "source": [
    "model = keras.models.Sequential()\n",
    "model.add(base_model)\n",
    "model.add(layers.Flatten())\n",
    "model.add(layers.Dense(512, activation = 'relu'))\n",
    "model.add(layers.Dropout(0.5))\n",
    "model.add(layers.Dense(1, activation = 'sigmoid'))"
   ]
  },
  {
   "cell_type": "code",
   "execution_count": 33,
   "id": "1749d0a2",
   "metadata": {},
   "outputs": [
    {
     "name": "stdout",
     "output_type": "stream",
     "text": [
      "Model: \"sequential_5\"\n",
      "_________________________________________________________________\n",
      " Layer (type)                Output Shape              Param #   \n",
      "=================================================================\n",
      " vgg16 (Functional)          (None, 4, 4, 512)         14714688  \n",
      "                                                                 \n",
      " conv2d_2 (Conv2D)           (None, 2, 2, 32)          147488    \n",
      "                                                                 \n",
      " max_pooling2d_1 (MaxPoolin  (None, 1, 1, 32)          0         \n",
      " g2D)                                                            \n",
      "                                                                 \n",
      " flatten_2 (Flatten)         (None, 32)                0         \n",
      "                                                                 \n",
      " dense_8 (Dense)             (None, 512)               16896     \n",
      "                                                                 \n",
      " dropout_4 (Dropout)         (None, 512)               0         \n",
      "                                                                 \n",
      " dense_9 (Dense)             (None, 1)                 513       \n",
      "                                                                 \n",
      "=================================================================\n",
      "Total params: 14879585 (56.76 MB)\n",
      "Trainable params: 164897 (644.13 KB)\n",
      "Non-trainable params: 14714688 (56.13 MB)\n",
      "_________________________________________________________________\n"
     ]
    }
   ],
   "source": [
    "model.summary()"
   ]
  },
  {
   "cell_type": "code",
   "execution_count": 29,
   "id": "fa891032",
   "metadata": {},
   "outputs": [],
   "source": [
    "early_stopping = EarlyStopping(\n",
    "    monitor='val_loss',    \n",
    "    min_delta=0.001,      \n",
    "    patience=8,            \n",
    "    verbose=1,\n",
    "    restore_best_weights=True\n",
    ")\n",
    "\n",
    "lr_scheduler = ReduceLROnPlateau(\n",
    "    monitor='val_loss',  #val_loss no overfitting   \n",
    "    min_delta=0.001,  \n",
    "    mode=\"min\",\n",
    "    factor=0.5,                 \n",
    "    patience=6,                 \n",
    "    min_lr=1e-7,                \n",
    "    verbose=1                   \n",
    ")"
   ]
  },
  {
   "cell_type": "code",
   "execution_count": 41,
   "id": "500439cc",
   "metadata": {},
   "outputs": [
    {
     "name": "stderr",
     "output_type": "stream",
     "text": [
      "WARNING:absl:At this time, the v2.11+ optimizer `tf.keras.optimizers.Adam` runs slowly on M1/M2 Macs, please use the legacy Keras optimizer instead, located at `tf.keras.optimizers.legacy.Adam`.\n",
      "WARNING:absl:There is a known slowdown when using v2.11+ Keras optimizers on M1/M2 Macs. Falling back to the legacy Keras optimizer, i.e., `tf.keras.optimizers.legacy.Adam`.\n"
     ]
    },
    {
     "name": "stdout",
     "output_type": "stream",
     "text": [
      "Epoch 1/50\n"
     ]
    },
    {
     "name": "stderr",
     "output_type": "stream",
     "text": [
      "2024-04-10 21:09:35.663317: I tensorflow/core/grappler/optimizers/custom_graph_optimizer_registry.cc:114] Plugin optimizer for device_type GPU is enabled.\n"
     ]
    },
    {
     "name": "stdout",
     "output_type": "stream",
     "text": [
      "40/40 [==============================] - ETA: 0s - loss: 2.7097 - acc: 0.6195"
     ]
    },
    {
     "name": "stderr",
     "output_type": "stream",
     "text": [
      "2024-04-10 21:09:39.751271: I tensorflow/core/grappler/optimizers/custom_graph_optimizer_registry.cc:114] Plugin optimizer for device_type GPU is enabled.\n"
     ]
    },
    {
     "name": "stdout",
     "output_type": "stream",
     "text": [
      "40/40 [==============================] - 5s 106ms/step - loss: 2.7097 - acc: 0.6195 - val_loss: 1.1669 - val_acc: 0.7200 - lr: 0.0010\n",
      "Epoch 2/50\n",
      "40/40 [==============================] - 4s 99ms/step - loss: 1.6022 - acc: 0.6940 - val_loss: 1.1243 - val_acc: 0.7300 - lr: 0.0010\n",
      "Epoch 3/50\n",
      "40/40 [==============================] - 4s 99ms/step - loss: 0.9653 - acc: 0.7232 - val_loss: 0.9572 - val_acc: 0.6600 - lr: 0.0010\n",
      "Epoch 4/50\n",
      "40/40 [==============================] - 4s 98ms/step - loss: 0.6353 - acc: 0.7579 - val_loss: 0.7883 - val_acc: 0.6600 - lr: 0.0010\n",
      "Epoch 5/50\n",
      "40/40 [==============================] - 4s 98ms/step - loss: 0.5068 - acc: 0.7780 - val_loss: 0.5832 - val_acc: 0.7400 - lr: 0.0010\n",
      "Epoch 6/50\n",
      "40/40 [==============================] - 4s 97ms/step - loss: 0.5143 - acc: 0.7741 - val_loss: 0.9969 - val_acc: 0.6100 - lr: 0.0010\n",
      "Epoch 7/50\n",
      "40/40 [==============================] - 4s 98ms/step - loss: 0.4961 - acc: 0.7764 - val_loss: 0.9281 - val_acc: 0.6200 - lr: 0.0010\n",
      "Epoch 8/50\n",
      "40/40 [==============================] - 4s 98ms/step - loss: 0.4528 - acc: 0.7934 - val_loss: 0.7653 - val_acc: 0.6800 - lr: 0.0010\n",
      "Epoch 9/50\n",
      "40/40 [==============================] - 4s 97ms/step - loss: 0.4338 - acc: 0.8166 - val_loss: 0.7484 - val_acc: 0.6700 - lr: 0.0010\n",
      "Epoch 10/50\n",
      "40/40 [==============================] - 4s 98ms/step - loss: 0.4292 - acc: 0.8131 - val_loss: 0.6120 - val_acc: 0.7200 - lr: 0.0010\n",
      "Epoch 11/50\n",
      "40/40 [==============================] - ETA: 0s - loss: 0.4073 - acc: 0.8170\n",
      "Epoch 11: ReduceLROnPlateau reducing learning rate to 0.0005000000237487257.\n",
      "40/40 [==============================] - 4s 98ms/step - loss: 0.4073 - acc: 0.8170 - val_loss: 0.6078 - val_acc: 0.6900 - lr: 0.0010\n",
      "Epoch 12/50\n",
      "40/40 [==============================] - 4s 98ms/step - loss: 0.3739 - acc: 0.8379 - val_loss: 0.6798 - val_acc: 0.6900 - lr: 5.0000e-04\n",
      "Epoch 13/50\n",
      "40/40 [==============================] - 4s 99ms/step - loss: 0.4018 - acc: 0.8241 - val_loss: 0.5317 - val_acc: 0.7500 - lr: 5.0000e-04\n",
      "Epoch 14/50\n",
      "40/40 [==============================] - 4s 98ms/step - loss: 0.3673 - acc: 0.8379 - val_loss: 0.7305 - val_acc: 0.7100 - lr: 5.0000e-04\n",
      "Epoch 15/50\n",
      "40/40 [==============================] - 4s 98ms/step - loss: 0.3495 - acc: 0.8438 - val_loss: 0.6496 - val_acc: 0.6900 - lr: 5.0000e-04\n",
      "Epoch 16/50\n",
      "40/40 [==============================] - 4s 98ms/step - loss: 0.3343 - acc: 0.8549 - val_loss: 0.5949 - val_acc: 0.7400 - lr: 5.0000e-04\n",
      "Epoch 17/50\n",
      "40/40 [==============================] - 4s 98ms/step - loss: 0.3543 - acc: 0.8423 - val_loss: 0.8561 - val_acc: 0.6500 - lr: 5.0000e-04\n",
      "Epoch 18/50\n",
      "40/40 [==============================] - 4s 98ms/step - loss: 0.3558 - acc: 0.8431 - val_loss: 0.6676 - val_acc: 0.7200 - lr: 5.0000e-04\n",
      "Epoch 19/50\n",
      "40/40 [==============================] - ETA: 0s - loss: 0.3564 - acc: 0.8454\n",
      "Epoch 19: ReduceLROnPlateau reducing learning rate to 0.0002500000118743628.\n",
      "40/40 [==============================] - 4s 98ms/step - loss: 0.3564 - acc: 0.8454 - val_loss: 0.7243 - val_acc: 0.7000 - lr: 5.0000e-04\n",
      "Epoch 20/50\n",
      "40/40 [==============================] - 4s 98ms/step - loss: 0.3296 - acc: 0.8517 - val_loss: 0.5365 - val_acc: 0.7300 - lr: 2.5000e-04\n",
      "Epoch 21/50\n",
      "40/40 [==============================] - ETA: 0s - loss: 0.3191 - acc: 0.8628Restoring model weights from the end of the best epoch: 13.\n",
      "40/40 [==============================] - 4s 98ms/step - loss: 0.3191 - acc: 0.8628 - val_loss: 0.6048 - val_acc: 0.7100 - lr: 2.5000e-04\n",
      "Epoch 21: early stopping\n"
     ]
    }
   ],
   "source": [
    "model.compile(loss = 'binary_crossentropy', optimizer = keras.optimizers.Adam(), metrics = ['acc'])\n",
    "history = model.fit(train_ds, epochs=50, validation_data = validation_ds, callbacks=[early_stopping, lr_scheduler])"
   ]
  },
  {
   "cell_type": "code",
   "execution_count": 42,
   "id": "51695a37",
   "metadata": {},
   "outputs": [
    {
     "data": {
      "text/plain": [
       "<Axes: >"
      ]
     },
     "execution_count": 42,
     "metadata": {},
     "output_type": "execute_result"
    },
    {
     "data": {
      "image/png": "[encoded data removed]",
      "text/plain": [
       "<Figure size 640x480 with 1 Axes>"
      ]
     },
     "metadata": {},
     "output_type": "display_data"
    }
   ],
   "source": [
    "pd.DataFrame(history.history).plot()"
   ]
  },
  {
   "cell_type": "code",
   "execution_count": 44,
   "id": "d728dcfc",
   "metadata": {},
   "outputs": [
    {
     "name": "stdout",
     "output_type": "stream",
     "text": [
      "5/5 [==============================] - 1s 107ms/step - loss: 0.4023 - acc: 0.8300\n"
     ]
    },
    {
     "data": {
      "text/plain": [
       "[0.40225499868392944, 0.8299999833106995]"
      ]
     },
     "execution_count": 44,
     "metadata": {},
     "output_type": "execute_result"
    }
   ],
   "source": [
    "model.evaluate(test_ds)"
   ]
  },
  {
   "cell_type": "code",
   "execution_count": 45,
   "id": "c5e909a8",
   "metadata": {},
   "outputs": [
    {
     "name": "stderr",
     "output_type": "stream",
     "text": [
      "/Users/gunachowdary/miniconda/envs/course_repo/lib/python3.9/site-packages/keras/src/engine/training.py:3000: UserWarning: You are saving your model as an HDF5 file via `model.save()`. This file format is considered legacy. We recommend using instead the native Keras format, e.g. `model.save('my_model.keras')`.\n",
      "  saving_api.save_model(\n"
     ]
    }
   ],
   "source": [
    "model.save(\"early_detection.h5\")"
   ]
  },
  {
   "cell_type": "code",
   "execution_count": 1,
   "id": "0e5dd41b",
   "metadata": {},
   "outputs": [],
   "source": [
    "import pandas as pd\n",
    "import numpy as np\n",
    "# import cv2\n",
    "import matplotlib.pyplot as plt\n",
    "import matplotlib.image as mpimg\n",
    "%matplotlib inline\n",
    "import seaborn as sns\n",
    "import random\n",
    "import os\n",
    "import gc\n",
    "import tensorflow as tf"
   ]
  },
  {
   "cell_type": "code",
   "execution_count": 3,
   "id": "383dab1d",
   "metadata": {},
   "outputs": [
    {
     "name": "stdout",
     "output_type": "stream",
     "text": [
      "Model: \"sequential_7\"\n",
      "_________________________________________________________________\n",
      " Layer (type)                Output Shape              Param #   \n",
      "=================================================================\n",
      " vgg16 (Functional)          (None, 4, 4, 512)         14714688  \n",
      "                                                                 \n",
      " flatten_4 (Flatten)         (None, 8192)              0         \n",
      "                                                                 \n",
      " dense_12 (Dense)            (None, 512)               4194816   \n",
      "                                                                 \n",
      " dropout_6 (Dropout)         (None, 512)               0         \n",
      "                                                                 \n",
      " dense_13 (Dense)            (None, 1)                 513       \n",
      "                                                                 \n",
      "=================================================================\n",
      "Total params: 18910017 (72.14 MB)\n",
      "Trainable params: 4195329 (16.00 MB)\n",
      "Non-trainable params: 14714688 (56.13 MB)\n",
      "_________________________________________________________________\n"
     ]
    }
   ],
   "source": [
    "model.summary()"
   ]
  },
  {
   "cell_type": "code",
   "execution_count": null,
   "id": "6c55b503",
   "metadata": {},
   "outputs": [
    {
     "data": {
      "text/plain": [
       "'2.9.0'"
      ]
     },
     "execution_count": 9,
     "metadata": {},
     "output_type": "execute_result"
    }
   ],
   "source": [
    "tf.__version__"
   ]
  },
  {
   "cell_type": "code",
   "execution_count": 3,
   "id": "8e7adaca",
   "metadata": {},
   "outputs": [],
   "source": [
    "import itertools\n",
    "import matplotlib.pyplot as plt\n",
    "import numpy as np\n",
    "from sklearn.metrics import confusion_matrix\n",
    "\n",
    "# Our function needs a different name to sklearn's plot_confusion_matrix\n",
    "def make_confusion_matrix(y_true, y_pred, classes=None, figsize=(10, 10), text_size=15, norm=False, savefig=False): \n",
    "  \"\"\"Makes a labelled confusion matrix comparing predictions and ground truth labels.\n",
    "\n",
    "  If classes is passed, confusion matrix will be labelled, if not, integer class values\n",
    "  will be used.\n",
    "\n",
    "  Args:\n",
    "    y_true: Array of truth labels (must be same shape as y_pred).\n",
    "    y_pred: Array of predicted labels (must be same shape as y_true).\n",
    "    classes: Array of class labels (e.g. string form). If `None`, integer labels are used.\n",
    "    figsize: Size of output figure (default=(10, 10)).\n",
    "    text_size: Size of output figure text (default=15).\n",
    "    norm: normalize values or not (default=False).\n",
    "    savefig: save confusion matrix to file (default=False).\n",
    "  \n",
    "  Returns:\n",
    "    A labelled confusion matrix plot comparing y_true and y_pred.\n",
    "\n",
    "  Example usage:\n",
    "    make_confusion_matrix(y_true=test_labels, # ground truth test labels\n",
    "                          y_pred=y_preds, # predicted labels\n",
    "                          classes=class_names, # array of class label names\n",
    "                          figsize=(15, 15),\n",
    "                          text_size=10)\n",
    "  \"\"\"  \n",
    "  # Create the confustion matrix\n",
    "  cm = confusion_matrix(y_true, y_pred)\n",
    "  cm_norm = cm.astype(\"float\") / cm.sum(axis=1)[:, np.newaxis] # normalize it\n",
    "  n_classes = cm.shape[0] # find the number of classes we're dealing with\n",
    "\n",
    "  # Plot the figure and make it pretty\n",
    "  fig, ax = plt.subplots(figsize=figsize)\n",
    "  cax = ax.matshow(cm, cmap=plt.cm.Blues) # colors will represent how 'correct' a class is, darker == better\n",
    "  fig.colorbar(cax)\n",
    "\n",
    "  # Are there a list of classes?\n",
    "  if classes:\n",
    "    labels = classes\n",
    "  else:\n",
    "    labels = np.arange(cm.shape[0])\n",
    "  \n",
    "  # Label the axes\n",
    "  ax.set(title=\"Confusion Matrix\",\n",
    "         xlabel=\"Predicted label\",\n",
    "         ylabel=\"True label\",\n",
    "         xticks=np.arange(n_classes), # create enough axis slots for each class\n",
    "         yticks=np.arange(n_classes), \n",
    "         xticklabels=labels, # axes will labeled with class names (if they exist) or ints\n",
    "         yticklabels=labels)\n",
    "  \n",
    "  # Make x-axis labels appear on bottom\n",
    "  ax.xaxis.set_label_position(\"bottom\")\n",
    "  ax.xaxis.tick_bottom()\n",
    "\n",
    "  # Set the threshold for different colors\n",
    "  threshold = (cm.max() + cm.min()) / 2.\n",
    "\n",
    "  # Plot the text on each cell\n",
    "  for i, j in itertools.product(range(cm.shape[0]), range(cm.shape[1])):\n",
    "    if norm:\n",
    "      plt.text(j, i, f\"{cm[i, j]} ({cm_norm[i, j]*100:.1f}%)\",\n",
    "              horizontalalignment=\"center\",\n",
    "              color=\"white\" if cm[i, j] > threshold else \"black\",\n",
    "              size=text_size)\n",
    "    else:\n",
    "      plt.text(j, i, f\"{cm[i, j]}\",\n",
    "              horizontalalignment=\"center\",\n",
    "              color=\"white\" if cm[i, j] > threshold else \"black\",\n",
    "              size=text_size)\n",
    "\n",
    "  # Save the figure to the current working directory\n",
    "  if savefig:\n",
    "    fig.savefig(\"confusion_matrix.png\")"
   ]
  },
  {
   "cell_type": "code",
   "execution_count": 4,
   "id": "870dc268",
   "metadata": {},
   "outputs": [
    {
     "name": "stderr",
     "output_type": "stream",
     "text": [
      "2024-04-11 01:23:15.241479: I metal_plugin/src/device/metal_device.cc:1154] Metal device set to: Apple M1\n",
      "2024-04-11 01:23:15.241505: I metal_plugin/src/device/metal_device.cc:296] systemMemory: 16.00 GB\n",
      "2024-04-11 01:23:15.241510: I metal_plugin/src/device/metal_device.cc:313] maxCacheSize: 5.33 GB\n",
      "2024-04-11 01:23:15.241724: I tensorflow/core/common_runtime/pluggable_device/pluggable_device_factory.cc:303] Could not identify NUMA node of platform GPU ID 0, defaulting to 0. Your kernel may not have been built with NUMA support.\n",
      "2024-04-11 01:23:15.241746: I tensorflow/core/common_runtime/pluggable_device/pluggable_device_factory.cc:269] Created TensorFlow device (/job:localhost/replica:0/task:0/device:GPU:0 with 0 MB memory) -> physical PluggableDevice (device: 0, name: METAL, pci bus id: <undefined>)\n"
     ]
    },
    {
     "name": "stdout",
     "output_type": "stream",
     "text": [
      "Found 300 images belonging to 2 classes.\n"
     ]
    },
    {
     "name": "stderr",
     "output_type": "stream",
     "text": [
      "2024-04-11 01:23:16.230688: I tensorflow/core/grappler/optimizers/custom_graph_optimizer_registry.cc:114] Plugin optimizer for device_type GPU is enabled.\n"
     ]
    },
    {
     "name": "stdout",
     "output_type": "stream",
     "text": [
      "5/5 [==============================] - 4s 840ms/step - loss: 0.3892 - acc: 0.8200\n"
     ]
    },
    {
     "data": {
      "text/plain": [
       "[0.3892355263233185, 0.8199999928474426]"
      ]
     },
     "execution_count": 4,
     "metadata": {},
     "output_type": "execute_result"
    }
   ],
   "source": [
    "from tensorflow.keras.models import load_model\n",
    "\n",
    "# Load the model\n",
    "model = load_model('early_detection.h5')\n",
    "test_dir = \"test/\"\n",
    "batch_size=64\n",
    "target_size=(150,150)\n",
    "\n",
    "test_dataGenerator = tf.keras.preprocessing.image.ImageDataGenerator(rescale=1./255,\n",
    "                                                              horizontal_flip=True)\n",
    "test_ds = test_dataGenerator.flow_from_directory(test_dir,\n",
    "                                                  batch_size=batch_size,\n",
    "                                                  target_size=target_size,\n",
    "                                                  shuffle=True,\n",
    "                                                  class_mode=\"binary\")\n",
    "                                                  \n",
    "\n",
    "model.evaluate(test_ds)"
   ]
  },
  {
   "cell_type": "code",
   "execution_count": 5,
   "id": "bc6393b2",
   "metadata": {},
   "outputs": [
    {
     "name": "stdout",
     "output_type": "stream",
     "text": [
      "1/5 [=====>........................] - ETA: 1s"
     ]
    },
    {
     "name": "stderr",
     "output_type": "stream",
     "text": [
      "2024-04-11 01:23:34.387458: I tensorflow/core/grappler/optimizers/custom_graph_optimizer_registry.cc:114] Plugin optimizer for device_type GPU is enabled.\n"
     ]
    },
    {
     "name": "stdout",
     "output_type": "stream",
     "text": [
      "5/5 [==============================] - 3s 784ms/step\n"
     ]
    },
    {
     "data": {
      "image/png": "[encoded data removed]",
      "text/plain": [
       "<Figure size 1000x1000 with 2 Axes>"
      ]
     },
     "metadata": {},
     "output_type": "display_data"
    }
   ],
   "source": [
    "# Get the true labels\n",
    "y_true = test_ds.classes\n",
    "\n",
    "# Make sure all the data in the test set is used exactly once\n",
    "test_steps = np.ceil(test_ds.samples / test_ds.batch_size)\n",
    "\n",
    "# Get the predicted labels\n",
    "y_pred = model.predict(test_ds, steps=test_steps)\n",
    "\n",
    "# Since the predictions are in the form of probabilities, convert them to class labels\n",
    "y_pred = np.where(y_pred > 0.5, 1, 0)\n",
    "\n",
    "\n",
    "# Get the class names from the class_indices attribute of the DirectoryIterator object\n",
    "class_names = list(test_ds.class_indices.keys())\n",
    "\n",
    "make_confusion_matrix(y_true=y_true,\n",
    "                      y_pred=y_pred,\n",
    "                      classes=class_names,\n",
    "                      figsize=(10, 10),\n",
    "                      text_size=15)"
   ]
  },
  {
   "cell_type": "code",
   "execution_count": 6,
   "id": "5b1706c6",
   "metadata": {},
   "outputs": [
    {
     "name": "stdout",
     "output_type": "stream",
     "text": [
      "Accuracy: 0.5266666666666666\n",
      "Precision: 0.5273972602739726\n",
      "F1 Score: 0.5202702702702703\n"
     ]
    }
   ],
   "source": [
    "from sklearn.metrics import accuracy_score, precision_score, f1_score\n",
    "\n",
    "# Assuming y_true and y_pred are your true and predicted labels\n",
    "accuracy = accuracy_score(y_true, y_pred)\n",
    "precision = precision_score(y_true, y_pred)\n",
    "f1 = f1_score(y_true, y_pred)\n",
    "\n",
    "print(f'Accuracy: {accuracy}')\n",
    "print(f'Precision: {precision}')\n",
    "print(f'F1 Score: {f1}')"
   ]
  },
  {
   "cell_type": "code",
   "execution_count": 7,
   "id": "e2e4d2e6",
   "metadata": {},
   "outputs": [],
   "source": [
    "precision = precision_score(y_true, y_pred, average='micro')\n",
    "f1 = f1_score(y_true, y_pred, average='micro')"
   ]
  },
  {
   "cell_type": "code",
   "execution_count": 8,
   "id": "c8755d8e",
   "metadata": {},
   "outputs": [
    {
     "data": {
      "text/plain": [
       "(0.5266666666666666, 0.5266666666666666)"
      ]
     },
     "execution_count": 8,
     "metadata": {},
     "output_type": "execute_result"
    }
   ],
   "source": [
    "precision, f1"
   ]
  }
 ],
 "metadata": {
  "kernelspec": {
   "display_name": "Python 3 (ipykernel)",
   "language": "python",
   "name": "python3"
  },
  "language_info": {
   "codemirror_mode": {
    "name": "ipython",
    "version": 3
   },
   "file_extension": ".py",
   "mimetype": "text/x-python",
   "name": "python",
   "nbconvert_exporter": "python",
   "pygments_lexer": "ipython3",
   "version": "3.9.19"
  }
 },
 "nbformat": 4,
 "nbformat_minor": 5
}
